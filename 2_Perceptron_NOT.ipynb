{
 "cells": [
  {
   "cell_type": "code",
   "execution_count": 71,
   "metadata": {
    "executionInfo": {
     "elapsed": 1273,
     "status": "ok",
     "timestamp": 1618333608184,
     "user": {
      "displayName": "Ferdinand Pineda",
      "photoUrl": "https://lh3.googleusercontent.com/a-/AOh14GjsLaRt0FQh6cgGY7HYnEHVm5c8pW5fK2mdeyp2=s64",
      "userId": "15068356675407096283"
     },
     "user_tz": 300
    },
    "id": "oYudpCWXMBKn"
   },
   "outputs": [],
   "source": [
    "# COnsidere el input 2 como entrada\n",
    "\n",
    "import pandas as pd"
   ]
  },
  {
   "cell_type": "code",
   "execution_count": 72,
   "metadata": {
    "executionInfo": {
     "elapsed": 1223,
     "status": "ok",
     "timestamp": 1618333608617,
     "user": {
      "displayName": "Ferdinand Pineda",
      "photoUrl": "https://lh3.googleusercontent.com/a-/AOh14GjsLaRt0FQh6cgGY7HYnEHVm5c8pW5fK2mdeyp2=s64",
      "userId": "15068356675407096283"
     },
     "user_tz": 300
    },
    "id": "Pnfk2BXWMBKw"
   },
   "outputs": [],
   "source": [
    "# Para modificar: Selecciones weight1, weight2, y bias\n",
    "weight1 = 1.0\n",
    "weight2 = -3.0\n",
    "bias = 1.0"
   ]
  },
  {
   "cell_type": "code",
   "execution_count": 73,
   "metadata": {
    "executionInfo": {
     "elapsed": 1240,
     "status": "ok",
     "timestamp": 1618333609230,
     "user": {
      "displayName": "Ferdinand Pineda",
      "photoUrl": "https://lh3.googleusercontent.com/a-/AOh14GjsLaRt0FQh6cgGY7HYnEHVm5c8pW5fK2mdeyp2=s64",
      "userId": "15068356675407096283"
     },
     "user_tz": 300
    },
    "id": "U4Fiw9_RMMdl"
   },
   "outputs": [],
   "source": [
    "# No cambie nada en esta celda\n",
    "# Entradas y salidas\n",
    "test_inputs = [(0, 0), (0, 1), (1, 0), (1, 1)]\n",
    "correct_outputs = [True, False, True, False]\n",
    "outputs = []"
   ]
  },
  {
   "cell_type": "code",
   "execution_count": 74,
   "metadata": {
    "executionInfo": {
     "elapsed": 1254,
     "status": "ok",
     "timestamp": 1618333609748,
     "user": {
      "displayName": "Ferdinand Pineda",
      "photoUrl": "https://lh3.googleusercontent.com/a-/AOh14GjsLaRt0FQh6cgGY7HYnEHVm5c8pW5fK2mdeyp2=s64",
      "userId": "15068356675407096283"
     },
     "user_tz": 300
    },
    "id": "azsnyO6zMOKK"
   },
   "outputs": [],
   "source": [
    "# Genera y verifica las salidas\n",
    "for test_input, correct_output in zip(test_inputs, correct_outputs):\n",
    "    linear_combination = weight1 * test_input[0] + weight2 * test_input[1] + bias\n",
    "    output = int(linear_combination >= 0)\n",
    "    is_correct_string = 'Yes' if output == correct_output else 'No'\n",
    "    outputs.append([test_input[0], test_input[1], linear_combination, output, is_correct_string])"
   ]
  },
  {
   "cell_type": "code",
   "execution_count": 75,
   "metadata": {
    "colab": {
     "base_uri": "https://localhost:8080/"
    },
    "executionInfo": {
     "elapsed": 1056,
     "status": "ok",
     "timestamp": 1618333610181,
     "user": {
      "displayName": "Ferdinand Pineda",
      "photoUrl": "https://lh3.googleusercontent.com/a-/AOh14GjsLaRt0FQh6cgGY7HYnEHVm5c8pW5fK2mdeyp2=s64",
      "userId": "15068356675407096283"
     },
     "user_tz": 300
    },
    "id": "TgwLnD4sMQLy",
    "outputId": "0ef1193a-4408-48ee-8dc0-dc404bed4cad"
   },
   "outputs": [
    {
     "name": "stdout",
     "output_type": "stream",
     "text": [
      "Nice!  Todo es correcto.\n",
      "\n",
      " Input 1    Input 2    Linear Combination    Activation Output   Is Correct\n",
      "       0          0                   1.0                    1          Yes\n",
      "       0          1                  -2.0                    0          Yes\n",
      "       1          0                   2.0                    1          Yes\n",
      "       1          1                  -1.0                    0          Yes\n"
     ]
    }
   ],
   "source": [
    "# Imprime salidas\n",
    "num_wrong = len([output[4] for output in outputs if output[4] == 'No'])\n",
    "output_frame = pd.DataFrame(outputs, columns=['Input 1', '  Input 2', '  Linear Combination', '  Activation Output', '  Is Correct'])\n",
    "if not num_wrong:\n",
    "    print('Nice!  Todo es correcto.\\n')\n",
    "else:\n",
    "    print('Usted tiene {} errores.  Siga probando!\\n'.format(num_wrong))\n",
    "print(output_frame.to_string(index=False))"
   ]
  },
  {
   "cell_type": "code",
   "execution_count": null,
   "metadata": {
    "id": "QF4IQNbaMywH"
   },
   "outputs": [],
   "source": []
  }
 ],
 "metadata": {
  "colab": {
   "name": "2_Perceptron_NOT.ipynb",
   "provenance": []
  },
  "kernelspec": {
   "display_name": "Python 3 (ipykernel)",
   "language": "python",
   "name": "python3"
  },
  "language_info": {
   "codemirror_mode": {
    "name": "ipython",
    "version": 3
   },
   "file_extension": ".py",
   "mimetype": "text/x-python",
   "name": "python",
   "nbconvert_exporter": "python",
   "pygments_lexer": "ipython3",
   "version": "3.12.2"
  }
 },
 "nbformat": 4,
 "nbformat_minor": 4
}
