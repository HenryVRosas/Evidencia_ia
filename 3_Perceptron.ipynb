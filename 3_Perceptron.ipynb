{
 "cells": [
  {
   "cell_type": "code",
   "execution_count": 481,
   "metadata": {
    "executionInfo": {
     "elapsed": 824,
     "status": "ok",
     "timestamp": 1621213096323,
     "user": {
      "displayName": "WILSON ANTONY MAMANI MACHACA",
      "photoUrl": "",
      "userId": "07032413194119411030"
     },
     "user_tz": 300
    },
    "id": "NAEUtkMdHwLq"
   },
   "outputs": [],
   "source": [
    "# Importando librerias\n",
    "import matplotlib.pyplot as plt\n",
    "import pandas as pd\n",
    "import numpy as np\n",
    "import seaborn as sns"
   ]
  },
  {
   "cell_type": "code",
   "execution_count": 482,
   "metadata": {
    "colab": {
     "base_uri": "https://localhost:8080/",
     "height": 204
    },
    "executionInfo": {
     "elapsed": 816,
     "status": "ok",
     "timestamp": 1621213096325,
     "user": {
      "displayName": "WILSON ANTONY MAMANI MACHACA",
      "photoUrl": "",
      "userId": "07032413194119411030"
     },
     "user_tz": 300
    },
    "id": "OEhZ2u5cIgXa",
    "outputId": "30708983-c050-4b7c-ea64-998582f25b33"
   },
   "outputs": [
    {
     "data": {
      "text/html": [
       "<div>\n",
       "<style scoped>\n",
       "    .dataframe tbody tr th:only-of-type {\n",
       "        vertical-align: middle;\n",
       "    }\n",
       "\n",
       "    .dataframe tbody tr th {\n",
       "        vertical-align: top;\n",
       "    }\n",
       "\n",
       "    .dataframe thead th {\n",
       "        text-align: right;\n",
       "    }\n",
       "</style>\n",
       "<table border=\"1\" class=\"dataframe\">\n",
       "  <thead>\n",
       "    <tr style=\"text-align: right;\">\n",
       "      <th></th>\n",
       "      <th>x1</th>\n",
       "      <th>x2</th>\n",
       "      <th>y</th>\n",
       "    </tr>\n",
       "  </thead>\n",
       "  <tbody>\n",
       "    <tr>\n",
       "      <th>0</th>\n",
       "      <td>0.78051</td>\n",
       "      <td>-0.063669</td>\n",
       "      <td>1</td>\n",
       "    </tr>\n",
       "    <tr>\n",
       "      <th>1</th>\n",
       "      <td>0.28774</td>\n",
       "      <td>0.291390</td>\n",
       "      <td>1</td>\n",
       "    </tr>\n",
       "    <tr>\n",
       "      <th>2</th>\n",
       "      <td>0.40714</td>\n",
       "      <td>0.178780</td>\n",
       "      <td>1</td>\n",
       "    </tr>\n",
       "    <tr>\n",
       "      <th>3</th>\n",
       "      <td>0.29230</td>\n",
       "      <td>0.421700</td>\n",
       "      <td>1</td>\n",
       "    </tr>\n",
       "    <tr>\n",
       "      <th>4</th>\n",
       "      <td>0.50922</td>\n",
       "      <td>0.352560</td>\n",
       "      <td>1</td>\n",
       "    </tr>\n",
       "  </tbody>\n",
       "</table>\n",
       "</div>"
      ],
      "text/plain": [
       "        x1        x2  y\n",
       "0  0.78051 -0.063669  1\n",
       "1  0.28774  0.291390  1\n",
       "2  0.40714  0.178780  1\n",
       "3  0.29230  0.421700  1\n",
       "4  0.50922  0.352560  1"
      ]
     },
     "execution_count": 482,
     "metadata": {},
     "output_type": "execute_result"
    }
   ],
   "source": [
    "#importamos Data\n",
    "df = pd.read_csv('data_perceptron.csv')\n",
    "df.head() # Muerstra los 5 primeros datos"
   ]
  },
  {
   "cell_type": "code",
   "execution_count": 483,
   "metadata": {},
   "outputs": [
    {
     "data": {
      "text/html": [
       "<div>\n",
       "<style scoped>\n",
       "    .dataframe tbody tr th:only-of-type {\n",
       "        vertical-align: middle;\n",
       "    }\n",
       "\n",
       "    .dataframe tbody tr th {\n",
       "        vertical-align: top;\n",
       "    }\n",
       "\n",
       "    .dataframe thead th {\n",
       "        text-align: right;\n",
       "    }\n",
       "</style>\n",
       "<table border=\"1\" class=\"dataframe\">\n",
       "  <thead>\n",
       "    <tr style=\"text-align: right;\">\n",
       "      <th></th>\n",
       "      <th>x1</th>\n",
       "      <th>x2</th>\n",
       "      <th>y</th>\n",
       "    </tr>\n",
       "  </thead>\n",
       "  <tbody>\n",
       "    <tr>\n",
       "      <th>95</th>\n",
       "      <td>0.77029</td>\n",
       "      <td>0.70140</td>\n",
       "      <td>0</td>\n",
       "    </tr>\n",
       "    <tr>\n",
       "      <th>96</th>\n",
       "      <td>0.73156</td>\n",
       "      <td>0.71782</td>\n",
       "      <td>0</td>\n",
       "    </tr>\n",
       "    <tr>\n",
       "      <th>97</th>\n",
       "      <td>0.44556</td>\n",
       "      <td>0.57991</td>\n",
       "      <td>0</td>\n",
       "    </tr>\n",
       "    <tr>\n",
       "      <th>98</th>\n",
       "      <td>0.85275</td>\n",
       "      <td>0.85987</td>\n",
       "      <td>0</td>\n",
       "    </tr>\n",
       "    <tr>\n",
       "      <th>99</th>\n",
       "      <td>0.51912</td>\n",
       "      <td>0.62359</td>\n",
       "      <td>0</td>\n",
       "    </tr>\n",
       "  </tbody>\n",
       "</table>\n",
       "</div>"
      ],
      "text/plain": [
       "         x1       x2  y\n",
       "95  0.77029  0.70140  0\n",
       "96  0.73156  0.71782  0\n",
       "97  0.44556  0.57991  0\n",
       "98  0.85275  0.85987  0\n",
       "99  0.51912  0.62359  0"
      ]
     },
     "execution_count": 483,
     "metadata": {},
     "output_type": "execute_result"
    }
   ],
   "source": [
    "df.tail() # Muestra los ultimos 5 datos"
   ]
  },
  {
   "cell_type": "code",
   "execution_count": 484,
   "metadata": {
    "colab": {
     "base_uri": "https://localhost:8080/",
     "height": 204
    },
    "executionInfo": {
     "elapsed": 808,
     "status": "ok",
     "timestamp": 1621213096327,
     "user": {
      "displayName": "WILSON ANTONY MAMANI MACHACA",
      "photoUrl": "",
      "userId": "07032413194119411030"
     },
     "user_tz": 300
    },
    "id": "eFMLWp59NJaS",
    "outputId": "69013b11-c44f-46af-8a59-032da30b19ea"
   },
   "outputs": [
    {
     "data": {
      "text/html": [
       "<div>\n",
       "<style scoped>\n",
       "    .dataframe tbody tr th:only-of-type {\n",
       "        vertical-align: middle;\n",
       "    }\n",
       "\n",
       "    .dataframe tbody tr th {\n",
       "        vertical-align: top;\n",
       "    }\n",
       "\n",
       "    .dataframe thead th {\n",
       "        text-align: right;\n",
       "    }\n",
       "</style>\n",
       "<table border=\"1\" class=\"dataframe\">\n",
       "  <thead>\n",
       "    <tr style=\"text-align: right;\">\n",
       "      <th></th>\n",
       "      <th>x1</th>\n",
       "      <th>x2</th>\n",
       "      <th>y</th>\n",
       "    </tr>\n",
       "  </thead>\n",
       "  <tbody>\n",
       "    <tr>\n",
       "      <th>0</th>\n",
       "      <td>0.78051</td>\n",
       "      <td>-0.063669</td>\n",
       "      <td>1</td>\n",
       "    </tr>\n",
       "    <tr>\n",
       "      <th>1</th>\n",
       "      <td>0.28774</td>\n",
       "      <td>0.291390</td>\n",
       "      <td>1</td>\n",
       "    </tr>\n",
       "    <tr>\n",
       "      <th>2</th>\n",
       "      <td>0.40714</td>\n",
       "      <td>0.178780</td>\n",
       "      <td>1</td>\n",
       "    </tr>\n",
       "    <tr>\n",
       "      <th>3</th>\n",
       "      <td>0.29230</td>\n",
       "      <td>0.421700</td>\n",
       "      <td>1</td>\n",
       "    </tr>\n",
       "    <tr>\n",
       "      <th>4</th>\n",
       "      <td>0.50922</td>\n",
       "      <td>0.352560</td>\n",
       "      <td>1</td>\n",
       "    </tr>\n",
       "  </tbody>\n",
       "</table>\n",
       "</div>"
      ],
      "text/plain": [
       "        x1        x2  y\n",
       "0  0.78051 -0.063669  1\n",
       "1  0.28774  0.291390  1\n",
       "2  0.40714  0.178780  1\n",
       "3  0.29230  0.421700  1\n",
       "4  0.50922  0.352560  1"
      ]
     },
     "execution_count": 484,
     "metadata": {},
     "output_type": "execute_result"
    }
   ],
   "source": [
    "#Realizamos copia para manipular Data\n",
    "df2 = df.copy()\n",
    "df2.head(5)"
   ]
  },
  {
   "cell_type": "code",
   "execution_count": 485,
   "metadata": {
    "colab": {
     "base_uri": "https://localhost:8080/",
     "height": 204
    },
    "executionInfo": {
     "elapsed": 1413,
     "status": "ok",
     "timestamp": 1621213096943,
     "user": {
      "displayName": "WILSON ANTONY MAMANI MACHACA",
      "photoUrl": "",
      "userId": "07032413194119411030"
     },
     "user_tz": 300
    },
    "id": "tA6IuQAvOLWy",
    "outputId": "b6e5efff-c38e-4a83-a011-dc2476cda44f"
   },
   "outputs": [
    {
     "data": {
      "text/html": [
       "<div>\n",
       "<style scoped>\n",
       "    .dataframe tbody tr th:only-of-type {\n",
       "        vertical-align: middle;\n",
       "    }\n",
       "\n",
       "    .dataframe tbody tr th {\n",
       "        vertical-align: top;\n",
       "    }\n",
       "\n",
       "    .dataframe thead th {\n",
       "        text-align: right;\n",
       "    }\n",
       "</style>\n",
       "<table border=\"1\" class=\"dataframe\">\n",
       "  <thead>\n",
       "    <tr style=\"text-align: right;\">\n",
       "      <th></th>\n",
       "      <th>x1</th>\n",
       "      <th>x2</th>\n",
       "    </tr>\n",
       "  </thead>\n",
       "  <tbody>\n",
       "    <tr>\n",
       "      <th>0</th>\n",
       "      <td>0.78051</td>\n",
       "      <td>-0.063669</td>\n",
       "    </tr>\n",
       "    <tr>\n",
       "      <th>1</th>\n",
       "      <td>0.28774</td>\n",
       "      <td>0.291390</td>\n",
       "    </tr>\n",
       "    <tr>\n",
       "      <th>2</th>\n",
       "      <td>0.40714</td>\n",
       "      <td>0.178780</td>\n",
       "    </tr>\n",
       "    <tr>\n",
       "      <th>3</th>\n",
       "      <td>0.29230</td>\n",
       "      <td>0.421700</td>\n",
       "    </tr>\n",
       "    <tr>\n",
       "      <th>4</th>\n",
       "      <td>0.50922</td>\n",
       "      <td>0.352560</td>\n",
       "    </tr>\n",
       "  </tbody>\n",
       "</table>\n",
       "</div>"
      ],
      "text/plain": [
       "        x1        x2\n",
       "0  0.78051 -0.063669\n",
       "1  0.28774  0.291390\n",
       "2  0.40714  0.178780\n",
       "3  0.29230  0.421700\n",
       "4  0.50922  0.352560"
      ]
     },
     "execution_count": 485,
     "metadata": {},
     "output_type": "execute_result"
    }
   ],
   "source": [
    "#Visualizamos Data de la columna x1 y x2\n",
    "X = df2[[\"x1\",\"x2\"]]\n",
    "X.head()"
   ]
  },
  {
   "cell_type": "code",
   "execution_count": 486,
   "metadata": {
    "colab": {
     "base_uri": "https://localhost:8080/"
    },
    "executionInfo": {
     "elapsed": 1407,
     "status": "ok",
     "timestamp": 1621213096944,
     "user": {
      "displayName": "WILSON ANTONY MAMANI MACHACA",
      "photoUrl": "",
      "userId": "07032413194119411030"
     },
     "user_tz": 300
    },
    "id": "Ta5FWGezVMko",
    "outputId": "3195b687-d1e7-42af-fb76-6bbc17e3df3f"
   },
   "outputs": [
    {
     "data": {
      "text/plain": [
       "(-0.063669, 0.78051, 100)"
      ]
     },
     "execution_count": 486,
     "metadata": {},
     "output_type": "execute_result"
    }
   ],
   "source": [
    "#Viasulizamos el valor minimo, maximo de la fila 0, y la cantidad de valores que tenemos en X\n",
    "min(X.T[0]), max(X.T[0]), len(X)"
   ]
  },
  {
   "cell_type": "code",
   "execution_count": 487,
   "metadata": {
    "colab": {
     "base_uri": "https://localhost:8080/"
    },
    "executionInfo": {
     "elapsed": 1400,
     "status": "ok",
     "timestamp": 1621213096944,
     "user": {
      "displayName": "WILSON ANTONY MAMANI MACHACA",
      "photoUrl": "",
      "userId": "07032413194119411030"
     },
     "user_tz": 300
    },
    "id": "oDvah0XxXNxw",
    "outputId": "3de94308-c241-4e4d-a070-d61ea1b77119"
   },
   "outputs": [
    {
     "data": {
      "text/plain": [
       "0.28774"
      ]
     },
     "execution_count": 487,
     "metadata": {},
     "output_type": "execute_result"
    }
   ],
   "source": [
    "#Visualizamos solo el primero valor de la columna x1\n",
    "X[\"x1\"][1]"
   ]
  },
  {
   "cell_type": "code",
   "execution_count": 488,
   "metadata": {
    "colab": {
     "base_uri": "https://localhost:8080/",
     "height": 204
    },
    "executionInfo": {
     "elapsed": 1393,
     "status": "ok",
     "timestamp": 1621213096945,
     "user": {
      "displayName": "WILSON ANTONY MAMANI MACHACA",
      "photoUrl": "",
      "userId": "07032413194119411030"
     },
     "user_tz": 300
    },
    "id": "Umf-4SIjRbUW",
    "outputId": "f814902f-6706-40b4-a4e6-3f1f341caf5d"
   },
   "outputs": [
    {
     "data": {
      "text/html": [
       "<div>\n",
       "<style scoped>\n",
       "    .dataframe tbody tr th:only-of-type {\n",
       "        vertical-align: middle;\n",
       "    }\n",
       "\n",
       "    .dataframe tbody tr th {\n",
       "        vertical-align: top;\n",
       "    }\n",
       "\n",
       "    .dataframe thead th {\n",
       "        text-align: right;\n",
       "    }\n",
       "</style>\n",
       "<table border=\"1\" class=\"dataframe\">\n",
       "  <thead>\n",
       "    <tr style=\"text-align: right;\">\n",
       "      <th></th>\n",
       "      <th>y</th>\n",
       "    </tr>\n",
       "  </thead>\n",
       "  <tbody>\n",
       "    <tr>\n",
       "      <th>0</th>\n",
       "      <td>1</td>\n",
       "    </tr>\n",
       "    <tr>\n",
       "      <th>1</th>\n",
       "      <td>1</td>\n",
       "    </tr>\n",
       "    <tr>\n",
       "      <th>2</th>\n",
       "      <td>1</td>\n",
       "    </tr>\n",
       "    <tr>\n",
       "      <th>3</th>\n",
       "      <td>1</td>\n",
       "    </tr>\n",
       "    <tr>\n",
       "      <th>4</th>\n",
       "      <td>1</td>\n",
       "    </tr>\n",
       "  </tbody>\n",
       "</table>\n",
       "</div>"
      ],
      "text/plain": [
       "   y\n",
       "0  1\n",
       "1  1\n",
       "2  1\n",
       "3  1\n",
       "4  1"
      ]
     },
     "execution_count": 488,
     "metadata": {},
     "output_type": "execute_result"
    }
   ],
   "source": [
    "#Visualizamos los 5 primero valores de la columna y\n",
    "y = df2[[\"y\"]]\n",
    "y.head()"
   ]
  },
  {
   "cell_type": "code",
   "execution_count": 489,
   "metadata": {
    "colab": {
     "base_uri": "https://localhost:8080/",
     "height": 297
    },
    "executionInfo": {
     "elapsed": 1383,
     "status": "ok",
     "timestamp": 1621213096945,
     "user": {
      "displayName": "WILSON ANTONY MAMANI MACHACA",
      "photoUrl": "",
      "userId": "07032413194119411030"
     },
     "user_tz": 300
    },
    "id": "X2WC9pHt1AES",
    "outputId": "38df3bf3-0085-4fc1-de79-80d39ecdf5fd"
   },
   "outputs": [
    {
     "data": {
      "text/html": [
       "<div>\n",
       "<style scoped>\n",
       "    .dataframe tbody tr th:only-of-type {\n",
       "        vertical-align: middle;\n",
       "    }\n",
       "\n",
       "    .dataframe tbody tr th {\n",
       "        vertical-align: top;\n",
       "    }\n",
       "\n",
       "    .dataframe thead th {\n",
       "        text-align: right;\n",
       "    }\n",
       "</style>\n",
       "<table border=\"1\" class=\"dataframe\">\n",
       "  <thead>\n",
       "    <tr style=\"text-align: right;\">\n",
       "      <th></th>\n",
       "      <th>x1</th>\n",
       "      <th>x2</th>\n",
       "      <th>y</th>\n",
       "    </tr>\n",
       "  </thead>\n",
       "  <tbody>\n",
       "    <tr>\n",
       "      <th>count</th>\n",
       "      <td>100.000000</td>\n",
       "      <td>100.000000</td>\n",
       "      <td>100.000000</td>\n",
       "    </tr>\n",
       "    <tr>\n",
       "      <th>mean</th>\n",
       "      <td>0.520591</td>\n",
       "      <td>0.519660</td>\n",
       "      <td>0.500000</td>\n",
       "    </tr>\n",
       "    <tr>\n",
       "      <th>std</th>\n",
       "      <td>0.216743</td>\n",
       "      <td>0.234301</td>\n",
       "      <td>0.502519</td>\n",
       "    </tr>\n",
       "    <tr>\n",
       "      <th>min</th>\n",
       "      <td>0.008449</td>\n",
       "      <td>-0.063669</td>\n",
       "      <td>0.000000</td>\n",
       "    </tr>\n",
       "    <tr>\n",
       "      <th>25%</th>\n",
       "      <td>0.334825</td>\n",
       "      <td>0.343457</td>\n",
       "      <td>0.000000</td>\n",
       "    </tr>\n",
       "    <tr>\n",
       "      <th>50%</th>\n",
       "      <td>0.528265</td>\n",
       "      <td>0.556385</td>\n",
       "      <td>0.500000</td>\n",
       "    </tr>\n",
       "    <tr>\n",
       "      <th>75%</th>\n",
       "      <td>0.693588</td>\n",
       "      <td>0.710245</td>\n",
       "      <td>1.000000</td>\n",
       "    </tr>\n",
       "    <tr>\n",
       "      <th>max</th>\n",
       "      <td>1.000000</td>\n",
       "      <td>1.000000</td>\n",
       "      <td>1.000000</td>\n",
       "    </tr>\n",
       "  </tbody>\n",
       "</table>\n",
       "</div>"
      ],
      "text/plain": [
       "               x1          x2           y\n",
       "count  100.000000  100.000000  100.000000\n",
       "mean     0.520591    0.519660    0.500000\n",
       "std      0.216743    0.234301    0.502519\n",
       "min      0.008449   -0.063669    0.000000\n",
       "25%      0.334825    0.343457    0.000000\n",
       "50%      0.528265    0.556385    0.500000\n",
       "75%      0.693588    0.710245    1.000000\n",
       "max      1.000000    1.000000    1.000000"
      ]
     },
     "execution_count": 489,
     "metadata": {},
     "output_type": "execute_result"
    }
   ],
   "source": [
    "#Visuslizamos datos estadisticos importantes de la Data analizada\n",
    "df2.describe()"
   ]
  },
  {
   "cell_type": "code",
   "execution_count": 490,
   "metadata": {
    "executionInfo": {
     "elapsed": 1376,
     "status": "ok",
     "timestamp": 1621213096946,
     "user": {
      "displayName": "WILSON ANTONY MAMANI MACHACA",
      "photoUrl": "",
      "userId": "07032413194119411030"
     },
     "user_tz": 300
    },
    "id": "RlLEvzPBJNxi"
   },
   "outputs": [],
   "source": [
    "#Declaramos una semilla la cual nos entregara un valor aleatorio para iniciar los pesos del perceptron\n",
    "np.random.seed(2000000)\n"
   ]
  },
  {
   "cell_type": "code",
   "execution_count": 491,
   "metadata": {
    "executionInfo": {
     "elapsed": 1372,
     "status": "ok",
     "timestamp": 1621213096946,
     "user": {
      "displayName": "WILSON ANTONY MAMANI MACHACA",
      "photoUrl": "",
      "userId": "07032413194119411030"
     },
     "user_tz": 300
    },
    "id": "XjD3zib9JTck"
   },
   "outputs": [],
   "source": [
    "# Definicion de funciones\n",
    "# Function step\n",
    "# Prediccion\n",
    "def stepFunction(t):\n",
    "    if t >= 0:\n",
    "        return 1\n",
    "    return 0\n",
    "\n",
    "def prediction(X, W, b):\n",
    "    return stepFunction((np.matmul(X,W)+b)[0])"
   ]
  },
  {
   "cell_type": "code",
   "execution_count": 492,
   "metadata": {
    "executionInfo": {
     "elapsed": 1369,
     "status": "ok",
     "timestamp": 1621213096947,
     "user": {
      "displayName": "WILSON ANTONY MAMANI MACHACA",
      "photoUrl": "",
      "userId": "07032413194119411030"
     },
     "user_tz": 300
    },
    "id": "peS6ka7qJ6xT"
   },
   "outputs": [],
   "source": [
    "# Perceptron\n",
    "learn_rate = 0.01\n",
    "epochs = 20000\n",
    "\n",
    "def perceptronStep(X, y, W, b, learn_rate = learn_rate):\n",
    "    for i in range(len(X)):\n",
    "        #print(X[i])\n",
    "        y_hat = prediction(X[i],W,b)\n",
    "        if y[i]-y_hat == 1:\n",
    "            W[0] += X[i][0]*learn_rate\n",
    "            W[1] += X[i][1]*learn_rate\n",
    "            b += learn_rate\n",
    "        elif y[i]-y_hat == -1:\n",
    "            W[0] -= X[i][0]*learn_rate\n",
    "            W[1] -= X[i][1]*learn_rate\n",
    "            b -= learn_rate\n",
    "    return W, b"
   ]
  },
  {
   "cell_type": "markdown",
   "metadata": {},
   "source": []
  },
  {
   "cell_type": "markdown",
   "metadata": {},
   "source": []
  },
  {
   "cell_type": "code",
   "execution_count": 493,
   "metadata": {
    "executionInfo": {
     "elapsed": 1364,
     "status": "ok",
     "timestamp": 1621213096947,
     "user": {
      "displayName": "WILSON ANTONY MAMANI MACHACA",
      "photoUrl": "",
      "userId": "07032413194119411030"
     },
     "user_tz": 300
    },
    "id": "TN2qg7gfKiQo"
   },
   "outputs": [],
   "source": [
    "# Entrenamiento de la neurona\n",
    "def trainPerceptronAlgorithm(X, y, learn_rate = learn_rate, num_epochs = epochs):\n",
    "    x_min, x_max = min(X.T[0]), max(X.T[0])\n",
    "    y_min, y_max = min(X.T[1]), max(X.T[1])\n",
    "    W = np.array(np.random.rand(2,1))\n",
    "    b = np.random.rand(1)[0] + x_max\n",
    "    \n",
    "    # Lineas generadas a dibujar\n",
    "    boundary_lines = []\n",
    "    for i in range(num_epochs):\n",
    "        # En cada epoca se aplica un paso del perceptron\n",
    "        W, b = perceptronStep(X, y, W, b, learn_rate)\n",
    "        boundary_lines.append((-W[0]/W[1], -b/W[1]))\n",
    "    return boundary_lines"
   ]
  },
  {
   "cell_type": "code",
   "execution_count": 494,
   "metadata": {
    "executionInfo": {
     "elapsed": 1929,
     "status": "ok",
     "timestamp": 1621213097529,
     "user": {
      "displayName": "WILSON ANTONY MAMANI MACHACA",
      "photoUrl": "",
      "userId": "07032413194119411030"
     },
     "user_tz": 300
    },
    "id": "EHzhfV9Ktrhw"
   },
   "outputs": [],
   "source": [
    "def perceptron_run():\n",
    "    #Convertir data de pandas a numpy\n",
    "    data = df2.to_numpy()\n",
    "    \n",
    "    #Separar la data variable e independiente\n",
    "    X = data[:,:-1]\n",
    "    y = data[:,-1]\n",
    "    \n",
    "    #Llamamos a la funcion que entrena al perceptron con los datos de entrenamiento \n",
    "    regression_coef = trainPerceptronAlgorithm(X, y)\n",
    "    \n",
    "    #Grafica de dispersion de los datos\n",
    "    plt.figure()\n",
    "    plt.title(\"Todas las rectas calculadas\")\n",
    "    X_ = data[:,0]\n",
    "    y_ = data[:,1]\n",
    "    data1 = [x for x in data if x[2] > 0]\n",
    "    data0 = [x for x in data if x[2] == 0]\n",
    "    X_min = X_.min()\n",
    "    X_max = X_.max()\n",
    "    data0_ = np.array(data0)\n",
    "    X0_ = data0_[:,0]\n",
    "    Y0_ = data0_[:,1]\n",
    "    data1_ = np.array(data1)\n",
    "    X1_ = data1_[:,0]\n",
    "    Y1_ = data1_[:,1]\n",
    "    plt.scatter(X1_, Y1_, zorder = 3, c='b')\n",
    "    plt.scatter(X0_, Y0_, zorder = 3, c='r')\n",
    "    \n",
    "    #Mediamos la longitud de regression_coef para saber cuantas rectas se tendra que graficar\n",
    "    s = len(regression_coef)\n",
    "    \n",
    "    #Graficamos todas las rectas probadas en la etapa de entrenamiento\n",
    "    for i in range(s):\n",
    "        a = 1+i\n",
    "        #print(i)\n",
    "        W, b = regression_coef[i]\n",
    "        plt.plot([X_min, X_max],[X_min * W + b, X_max * W + b], color=[0.5/a, 0.5, 0.5])\n",
    "    # Utilizamos libreria Seaborn para graficar nuevamente\n",
    "    sns.set()\n",
    "    \n",
    "    #Graficamos la mejor recta obtenida en la estapa de entrenamiento\n",
    "    W, b = regression_coef[-1]\n",
    "    fig=plt.figure()\n",
    "    plt.title(\"Mejor recta obtenida\")\n",
    "    plt.scatter(X1_, Y1_, zorder = 3, c='b')\n",
    "    plt.scatter(X0_, Y0_, zorder = 3, c='r')\n",
    "    plt.plot([X_min, X_max],[X_min * W + b, X_max * W + b], color=[0.5/a, 0.5, 0.5])"
   ]
  },
  {
   "cell_type": "code",
   "execution_count": 495,
   "metadata": {
    "colab": {
     "base_uri": "https://localhost:8080/",
     "height": 348,
     "referenced_widgets": [
      "5189b1a525dd45a099887accd67a3e2e",
      "e906967edb5042b3abf6af65db06cb96",
      "d4417548d54d492bb803a1f56fbe8c2c",
      "fdbc09a6c6e9494fa2e7976a6938b535",
      "a05422f67729431eb304a04f1d004672",
      "9f0a9f01a4264735b6215d91d74687f9",
      "40af0fc5500c4ca890bc1625f0a5782b",
      "dae40f33b5fa4f5695f38c8329759c62",
      "a12fb4b04b9b4dcc9762cdda03901b3f",
      "8d233530e432470d9ce2156e859331ae"
     ]
    },
    "executionInfo": {
     "elapsed": 2771,
     "status": "ok",
     "timestamp": 1621213098377,
     "user": {
      "displayName": "WILSON ANTONY MAMANI MACHACA",
      "photoUrl": "",
      "userId": "07032413194119411030"
     },
     "user_tz": 300
    },
    "id": "aN8jvdIYttNY",
    "outputId": "30a65c2e-3c9e-46f9-d71b-aac9e0366a73"
   },
   "outputs": [
    {
     "data": {
      "image/png": "[encoded data removed]",
      "text/plain": [
       "<Figure size 640x480 with 1 Axes>"
      ]
     },
     "metadata": {},
     "output_type": "display_data"
    },
    {
     "data": {
      "image/png": "[encoded data removed]",
      "text/plain": [
       "<Figure size 640x480 with 1 Axes>"
      ]
     },
     "metadata": {},
     "output_type": "display_data"
    }
   ],
   "source": [
    "perceptron_run()"
   ]
  },
  {
   "cell_type": "code",
   "execution_count": null,
   "metadata": {},
   "outputs": [],
   "source": []
  }
 ],
 "metadata": {
  "colab": {
   "name": "Copia de Notebook Perceptron-Resuelto.ipynb",
   "provenance": []
  },
  "kernelspec": {
   "display_name": "Python 3 (ipykernel)",
   "language": "python",
   "name": "python3"
  },
  "language_info": {
   "codemirror_mode": {
    "name": "ipython",
    "version": 3
   },
   "file_extension": ".py",
   "mimetype": "text/x-python",
   "name": "python",
   "nbconvert_exporter": "python",
   "pygments_lexer": "ipython3",
   "version": "3.12.2"
  },
  "widgets": {
   "application/vnd.jupyter.widget-state+json": {
    "40af0fc5500c4ca890bc1625f0a5782b": {
     "model_module": "@jupyter-widgets/base",
     "model_name": "LayoutModel",
     "state": {
      "_model_module": "@jupyter-widgets/base",
      "_model_module_version": "1.2.0",
      "_model_name": "LayoutModel",
      "_view_count": null,
      "_view_module": "@jupyter-widgets/base",
      "_view_module_version": "1.2.0",
      "_view_name": "LayoutView",
      "align_content": null,
      "align_items": null,
      "align_self": null,
      "border": null,
      "bottom": null,
      "display": null,
      "flex": null,
      "flex_flow": null,
      "grid_area": null,
      "grid_auto_columns": null,
      "grid_auto_flow": null,
      "grid_auto_rows": null,
      "grid_column": null,
      "grid_gap": null,
      "grid_row": null,
      "grid_template_areas": null,
      "grid_template_columns": null,
      "grid_template_rows": null,
      "height": null,
      "justify_content": null,
      "justify_items": null,
      "left": null,
      "margin": null,
      "max_height": null,
      "max_width": null,
      "min_height": null,
      "min_width": null,
      "object_fit": null,
      "object_position": null,
      "order": null,
      "overflow": null,
      "overflow_x": null,
      "overflow_y": null,
      "padding": null,
      "right": null,
      "top": null,
      "visibility": null,
      "width": null
     }
    },
    "5189b1a525dd45a099887accd67a3e2e": {
     "model_module": "@jupyter-widgets/controls",
     "model_name": "VBoxModel",
     "state": {
      "_dom_classes": [
       "widget-interact"
      ],
      "_model_module": "@jupyter-widgets/controls",
      "_model_module_version": "1.5.0",
      "_model_name": "VBoxModel",
      "_view_count": null,
      "_view_module": "@jupyter-widgets/controls",
      "_view_module_version": "1.5.0",
      "_view_name": "VBoxView",
      "box_style": "",
      "children": [
       "IPY_MODEL_d4417548d54d492bb803a1f56fbe8c2c",
       "IPY_MODEL_fdbc09a6c6e9494fa2e7976a6938b535",
       "IPY_MODEL_a05422f67729431eb304a04f1d004672"
      ],
      "layout": "IPY_MODEL_e906967edb5042b3abf6af65db06cb96"
     }
    },
    "8d233530e432470d9ce2156e859331ae": {
     "model_module": "@jupyter-widgets/base",
     "model_name": "LayoutModel",
     "state": {
      "_model_module": "@jupyter-widgets/base",
      "_model_module_version": "1.2.0",
      "_model_name": "LayoutModel",
      "_view_count": null,
      "_view_module": "@jupyter-widgets/base",
      "_view_module_version": "1.2.0",
      "_view_name": "LayoutView",
      "align_content": null,
      "align_items": null,
      "align_self": null,
      "border": null,
      "bottom": null,
      "display": null,
      "flex": null,
      "flex_flow": null,
      "grid_area": null,
      "grid_auto_columns": null,
      "grid_auto_flow": null,
      "grid_auto_rows": null,
      "grid_column": null,
      "grid_gap": null,
      "grid_row": null,
      "grid_template_areas": null,
      "grid_template_columns": null,
      "grid_template_rows": null,
      "height": null,
      "justify_content": null,
      "justify_items": null,
      "left": null,
      "margin": null,
      "max_height": null,
      "max_width": null,
      "min_height": null,
      "min_width": null,
      "object_fit": null,
      "object_position": null,
      "order": null,
      "overflow": null,
      "overflow_x": null,
      "overflow_y": null,
      "padding": null,
      "right": null,
      "top": null,
      "visibility": null,
      "width": null
     }
    },
    "9f0a9f01a4264735b6215d91d74687f9": {
     "model_module": "@jupyter-widgets/controls",
     "model_name": "SliderStyleModel",
     "state": {
      "_model_module": "@jupyter-widgets/controls",
      "_model_module_version": "1.5.0",
      "_model_name": "SliderStyleModel",
      "_view_count": null,
      "_view_module": "@jupyter-widgets/base",
      "_view_module_version": "1.2.0",
      "_view_name": "StyleView",
      "description_width": "",
      "handle_color": null
     }
    },
    "a05422f67729431eb304a04f1d004672": {
     "model_module": "@jupyter-widgets/output",
     "model_name": "OutputModel",
     "state": {
      "_dom_classes": [],
      "_model_module": "@jupyter-widgets/output",
      "_model_module_version": "1.0.0",
      "_model_name": "OutputModel",
      "_view_count": null,
      "_view_module": "@jupyter-widgets/output",
      "_view_module_version": "1.0.0",
      "_view_name": "OutputView",
      "layout": "IPY_MODEL_8d233530e432470d9ce2156e859331ae",
      "msg_id": "",
      "outputs": [
       {
        "image/png": "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\n",
        "metadata": {
         "tags": []
        },
        "output_type": "display_data",
        "text/plain": "<Figure size 432x288 with 1 Axes>"
       }
      ]
     }
    },
    "a12fb4b04b9b4dcc9762cdda03901b3f": {
     "model_module": "@jupyter-widgets/base",
     "model_name": "LayoutModel",
     "state": {
      "_model_module": "@jupyter-widgets/base",
      "_model_module_version": "1.2.0",
      "_model_name": "LayoutModel",
      "_view_count": null,
      "_view_module": "@jupyter-widgets/base",
      "_view_module_version": "1.2.0",
      "_view_name": "LayoutView",
      "align_content": null,
      "align_items": null,
      "align_self": null,
      "border": null,
      "bottom": null,
      "display": null,
      "flex": null,
      "flex_flow": null,
      "grid_area": null,
      "grid_auto_columns": null,
      "grid_auto_flow": null,
      "grid_auto_rows": null,
      "grid_column": null,
      "grid_gap": null,
      "grid_row": null,
      "grid_template_areas": null,
      "grid_template_columns": null,
      "grid_template_rows": null,
      "height": null,
      "justify_content": null,
      "justify_items": null,
      "left": null,
      "margin": null,
      "max_height": null,
      "max_width": null,
      "min_height": null,
      "min_width": null,
      "object_fit": null,
      "object_position": null,
      "order": null,
      "overflow": null,
      "overflow_x": null,
      "overflow_y": null,
      "padding": null,
      "right": null,
      "top": null,
      "visibility": null,
      "width": null
     }
    },
    "d4417548d54d492bb803a1f56fbe8c2c": {
     "model_module": "@jupyter-widgets/controls",
     "model_name": "FloatSliderModel",
     "state": {
      "_dom_classes": [],
      "_model_module": "@jupyter-widgets/controls",
      "_model_module_version": "1.5.0",
      "_model_name": "FloatSliderModel",
      "_view_count": null,
      "_view_module": "@jupyter-widgets/controls",
      "_view_module_version": "1.5.0",
      "_view_name": "FloatSliderView",
      "continuous_update": true,
      "description": "lr",
      "description_tooltip": null,
      "disabled": false,
      "layout": "IPY_MODEL_40af0fc5500c4ca890bc1625f0a5782b",
      "max": 5,
      "min": 0.25,
      "orientation": "horizontal",
      "readout": true,
      "readout_format": ".2f",
      "step": 0.25,
      "style": "IPY_MODEL_9f0a9f01a4264735b6215d91d74687f9",
      "value": 0.5
     }
    },
    "dae40f33b5fa4f5695f38c8329759c62": {
     "model_module": "@jupyter-widgets/controls",
     "model_name": "SliderStyleModel",
     "state": {
      "_model_module": "@jupyter-widgets/controls",
      "_model_module_version": "1.5.0",
      "_model_name": "SliderStyleModel",
      "_view_count": null,
      "_view_module": "@jupyter-widgets/base",
      "_view_module_version": "1.2.0",
      "_view_name": "StyleView",
      "description_width": "",
      "handle_color": null
     }
    },
    "e906967edb5042b3abf6af65db06cb96": {
     "model_module": "@jupyter-widgets/base",
     "model_name": "LayoutModel",
     "state": {
      "_model_module": "@jupyter-widgets/base",
      "_model_module_version": "1.2.0",
      "_model_name": "LayoutModel",
      "_view_count": null,
      "_view_module": "@jupyter-widgets/base",
      "_view_module_version": "1.2.0",
      "_view_name": "LayoutView",
      "align_content": null,
      "align_items": null,
      "align_self": null,
      "border": null,
      "bottom": null,
      "display": null,
      "flex": null,
      "flex_flow": null,
      "grid_area": null,
      "grid_auto_columns": null,
      "grid_auto_flow": null,
      "grid_auto_rows": null,
      "grid_column": null,
      "grid_gap": null,
      "grid_row": null,
      "grid_template_areas": null,
      "grid_template_columns": null,
      "grid_template_rows": null,
      "height": null,
      "justify_content": null,
      "justify_items": null,
      "left": null,
      "margin": null,
      "max_height": null,
      "max_width": null,
      "min_height": null,
      "min_width": null,
      "object_fit": null,
      "object_position": null,
      "order": null,
      "overflow": null,
      "overflow_x": null,
      "overflow_y": null,
      "padding": null,
      "right": null,
      "top": null,
      "visibility": null,
      "width": null
     }
    },
    "fdbc09a6c6e9494fa2e7976a6938b535": {
     "model_module": "@jupyter-widgets/controls",
     "model_name": "IntSliderModel",
     "state": {
      "_dom_classes": [],
      "_model_module": "@jupyter-widgets/controls",
      "_model_module_version": "1.5.0",
      "_model_name": "IntSliderModel",
      "_view_count": null,
      "_view_module": "@jupyter-widgets/controls",
      "_view_module_version": "1.5.0",
      "_view_name": "IntSliderView",
      "continuous_update": true,
      "description": "epoch",
      "description_tooltip": null,
      "disabled": false,
      "layout": "IPY_MODEL_a12fb4b04b9b4dcc9762cdda03901b3f",
      "max": 50,
      "min": 1,
      "orientation": "horizontal",
      "readout": true,
      "readout_format": "d",
      "step": 1,
      "style": "IPY_MODEL_dae40f33b5fa4f5695f38c8329759c62",
      "value": 25
     }
    }
   }
  }
 },
 "nbformat": 4,
 "nbformat_minor": 4
}
