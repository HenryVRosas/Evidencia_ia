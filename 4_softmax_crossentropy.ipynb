{
 "cells": [
  {
   "cell_type": "code",
   "execution_count": 1,
   "id": "dcee8546-1b72-4cfd-9567-ac41c99d6c33",
   "metadata": {},
   "outputs": [],
   "source": [
    "# Softmax"
   ]
  },
  {
   "cell_type": "code",
   "execution_count": 2,
   "id": "04be4629-3d01-4d63-b213-75b5f01c5c94",
   "metadata": {},
   "outputs": [],
   "source": [
    "import numpy as np"
   ]
  },
  {
   "cell_type": "code",
   "execution_count": 3,
   "id": "4df47e89-15ad-4bdb-aa7f-5c4ae2ac7f7e",
   "metadata": {},
   "outputs": [],
   "source": [
    "# Funcion softmax\n",
    "def softmax(L):\n",
    "    expL = np.exp(L)\n",
    "    return np.divide(expL, expL.sum())"
   ]
  },
  {
   "cell_type": "code",
   "execution_count": 4,
   "id": "78e375b2-9873-4332-9e3b-bce9b1a16573",
   "metadata": {},
   "outputs": [],
   "source": [
    "L = [2,1,0]  # valores de la diapositiva"
   ]
  },
  {
   "cell_type": "code",
   "execution_count": 5,
   "id": "1051ac98-a46f-471b-9ca2-dc249a9fcbc3",
   "metadata": {},
   "outputs": [
    {
     "data": {
      "text/plain": [
       "array([0.66524096, 0.24472847, 0.09003057])"
      ]
     },
     "execution_count": 5,
     "metadata": {},
     "output_type": "execute_result"
    }
   ],
   "source": [
    "softmax(L)"
   ]
  },
  {
   "cell_type": "code",
   "execution_count": 6,
   "id": "09792223-1cd8-41ce-8521-8d97d9d86c26",
   "metadata": {},
   "outputs": [
    {
     "data": {
      "text/plain": [
       "array([0.01714783, 0.04661262, 0.93623955])"
      ]
     },
     "execution_count": 6,
     "metadata": {},
     "output_type": "execute_result"
    }
   ],
   "source": [
    "L2 = [5,6,9]\n",
    "softmax(L2)"
   ]
  },
  {
   "cell_type": "code",
   "execution_count": null,
   "id": "658b1372-00c6-4069-b124-f289bd9f280e",
   "metadata": {},
   "outputs": [],
   "source": []
  },
  {
   "cell_type": "code",
   "execution_count": 7,
   "id": "b9fad104-7950-40ee-88d9-14853b012bf5",
   "metadata": {},
   "outputs": [],
   "source": [
    "# Cross entropy"
   ]
  },
  {
   "cell_type": "code",
   "execution_count": 8,
   "id": "d86cb07f-9cd2-4a60-afef-3e76ebf2431c",
   "metadata": {},
   "outputs": [],
   "source": [
    "import numpy as np"
   ]
  },
  {
   "cell_type": "code",
   "execution_count": 9,
   "id": "f7bc13a7-bb7c-4702-a46c-f0e9fe0eeb36",
   "metadata": {},
   "outputs": [],
   "source": [
    "def cross_entropy(y, p):\n",
    "    y = np.float_(y)\n",
    "    p = np.float_(p)\n",
    "    return -np.sum( y * np.log(p) + (1 - y) * np.log(1 - p)) \n",
    "    "
   ]
  },
  {
   "cell_type": "code",
   "execution_count": 10,
   "id": "7c798811-adb2-4815-b0a9-d7f936414685",
   "metadata": {},
   "outputs": [],
   "source": [
    "y = [1,1,0]  # valores de la diapositiva\n",
    "p = [0.8, 0.7, 0.1]"
   ]
  },
  {
   "cell_type": "code",
   "execution_count": 11,
   "id": "8ca8765b-379b-4655-ac5d-b258b3490db0",
   "metadata": {},
   "outputs": [
    {
     "data": {
      "text/plain": [
       "0.6851790109107685"
      ]
     },
     "execution_count": 11,
     "metadata": {},
     "output_type": "execute_result"
    }
   ],
   "source": [
    "cross_entropy(y,p)"
   ]
  },
  {
   "cell_type": "code",
   "execution_count": 12,
   "id": "6df36310-dfc5-4aeb-bd3a-24c9ccb6241f",
   "metadata": {},
   "outputs": [],
   "source": [
    "y2 = [1,0,1,0]\n",
    "p2 = [0.4, 0.9, 0.1, 0.5]"
   ]
  },
  {
   "cell_type": "code",
   "execution_count": 13,
   "id": "86e4fd8f-2053-43bb-9f21-acf72dd9a016",
   "metadata": {},
   "outputs": [
    {
     "data": {
      "text/plain": [
       "6.214608098422191"
      ]
     },
     "execution_count": 13,
     "metadata": {},
     "output_type": "execute_result"
    }
   ],
   "source": [
    "cross_entropy(y2, p2)"
   ]
  },
  {
   "cell_type": "code",
   "execution_count": null,
   "id": "0d94d30d-ecb4-4d3f-bc3a-14c981f5dbd8",
   "metadata": {},
   "outputs": [],
   "source": []
  }
 ],
 "metadata": {
  "kernelspec": {
   "display_name": "Python 3 (ipykernel)",
   "language": "python",
   "name": "python3"
  },
  "language_info": {
   "codemirror_mode": {
    "name": "ipython",
    "version": 3
   },
   "file_extension": ".py",
   "mimetype": "text/x-python",
   "name": "python",
   "nbconvert_exporter": "python",
   "pygments_lexer": "ipython3",
   "version": "3.12.2"
  }
 },
 "nbformat": 4,
 "nbformat_minor": 5
}
