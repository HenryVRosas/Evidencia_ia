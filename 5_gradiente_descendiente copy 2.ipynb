{
 "cells": [
  {
   "cell_type": "code",
   "execution_count": 403,
   "metadata": {
    "id": "6F87yim_3zYS"
   },
   "outputs": [],
   "source": [
    "# Importar librerias\n",
    "\n",
    "import matplotlib.pyplot as plt\n",
    "import numpy as np\n",
    "import pandas as pd"
   ]
  },
  {
   "cell_type": "code",
   "execution_count": 404,
   "metadata": {
    "id": "fYV8O8Jg390U"
   },
   "outputs": [],
   "source": [
    "# Graficar las salidas\n",
    "\n",
    "def plot_points(X, y):\n",
    "    admitted = X[np.argwhere(y==1)]\n",
    "    rejected = X[np.argwhere(y==0)]\n",
    "    plt.scatter([s[0][0] for s in rejected], [s[0][1] for s in rejected], s = 25, color = 'blue', edgecolor = 'k')\n",
    "    plt.scatter([s[0][0] for s in admitted], [s[0][1] for s in admitted], s = 25, color = 'red', edgecolor = 'k')\n",
    "\n",
    "def display(m, b, color='g--'):\n",
    "    plt.xlim(-0.05,1.05)\n",
    "    plt.ylim(-0.05,1.05)\n",
    "    x = np.arange(-10, 10, 0.1)\n",
    "    plt.plot(x, m*x+b, color)"
   ]
  },
  {
   "cell_type": "code",
   "execution_count": 405,
   "metadata": {
    "colab": {
     "base_uri": "https://localhost:8080/",
     "height": 265
    },
    "id": "_dWN9KD_394L",
    "outputId": "fd572f93-6154-4396-b90a-6186c7190b11"
   },
   "outputs": [],
   "source": [
    "# Cargar datos\n",
    "data = pd.read_csv(\"citas_nuevo.csv\", header=None)"
   ]
  },
  {
   "cell_type": "code",
   "execution_count": 406,
   "metadata": {},
   "outputs": [
    {
     "name": "stdout",
     "output_type": "stream",
     "text": [
      "[[0 1 0 0 0 0]\n",
      " [0 0 0 0 0 0]\n",
      " [0 0 0 0 0 0]\n",
      " ...\n",
      " [0 0 0 0 0 1]\n",
      " [0 0 0 0 0 1]\n",
      " [0 0 0 0 0 1]]\n",
      "[0 0 0 ... 0 0 0]\n"
     ]
    },
    {
     "data": {
      "image/png": "[encoded data removed]",
      "text/plain": [
       "<Figure size 640x480 with 1 Axes>"
      ]
     },
     "metadata": {},
     "output_type": "display_data"
    }
   ],
   "source": [
    "# Obtengo x e y\n",
    "data = data.dropna()\n",
    "\n",
    "X = np.array(data[[7,8,9, 10, 11, 12]])  # defino x1, x2 /// Age / Fare\n",
    "y = np.array(data[13])  # defino y / Survived\n",
    "print(X)\n",
    "print(y)\n",
    "\n",
    "# Mostramos el grafico\n",
    "plot_points(X,y)\n",
    "plt.show()"
   ]
  },
  {
   "cell_type": "code",
   "execution_count": 407,
   "metadata": {
    "id": "1Gn0-lHm6dCX"
   },
   "outputs": [],
   "source": [
    "# Implementar las ecuaciones de Gradiente Descendiente\n",
    "\n",
    "# Funcion sigmoidal\n",
    "def sigmoid(x):\n",
    "    return 1 / (1 + np.exp(-x))\n",
    "\n",
    "def output_formula(features, weights, bias):\n",
    "    # Calcular la combinación lineal de características y pesos más el sesgo\n",
    "    output = np.dot(features, weights) + bias\n",
    "    # Aplicar la función sigmoide para obtener valores en el rango (0, 1)\n",
    "    return 1 / (1 + np.exp(-output))\n",
    "\n",
    "def error_formula(y, output):\n",
    "    # Asegurar que los valores estén en el rango válido para el logaritmo\n",
    "    output = np.clip(output, 1e-15, 1 - 1e-15)\n",
    "    return - y*np.log(output) - (1 - y) * np.log(1-output)\n",
    "\n",
    "# Actualizar pesos\n",
    "def update_weights(x, y, weights, bias, learnrate):\n",
    "    output = output_formula(x, weights, bias)\n",
    "    d_error = y - output\n",
    "    weights += learnrate * d_error * x\n",
    "    bias += learnrate * d_error\n",
    "    return weights, bias\n"
   ]
  },
  {
   "cell_type": "code",
   "execution_count": 408,
   "metadata": {
    "id": "2Qot73u5398N"
   },
   "outputs": [],
   "source": [
    "# Entrenamiento\n",
    "\n",
    "np.random.seed(17) #44\n",
    " \n",
    "epochs = 300 #1000 - 1450\n",
    "learnrate = 0.0001 #0.1 - 0.001\n",
    "\n",
    "def train(features, targets, epochs, learnrate, graph_lines=False):\n",
    "    \n",
    "    errors = [] # alamacenar el error\n",
    "    n_records, n_features = features.shape\n",
    "    last_loss = None\n",
    "    weights = np.random.normal(scale=1 / n_features**.5, size=n_features)\n",
    "    bias = 0\n",
    "    for e in range(epochs):\n",
    "        del_w = np.zeros(weights.shape)\n",
    "        for x, y in zip(features, targets):\n",
    "            output = output_formula(np.array(x), weights, bias)\n",
    "            error = error_formula(y, output)  # y vs y_sombrero\n",
    "            weights, bias = update_weights(x, y, weights, bias, learnrate)\n",
    "                   \n",
    "        # Printing out the log-loss error on the training set\n",
    "        out = output_formula(features, weights, bias)\n",
    "        loss = np.mean(error_formula(targets, out))\n",
    "        errors.append(loss)\n",
    "        if e % (epochs / 10) == 0:\n",
    "            print(\"\\n========== Epoch\", e,\"==========\")\n",
    "            print(\"---------------\")\n",
    "            print(e)\n",
    "            print(\"---------------\")\n",
    "            if last_loss and last_loss < loss:\n",
    "                print(\"Train loss: \", loss)\n",
    "            else:\n",
    "                print(\"Train loss: \", loss)\n",
    "            last_loss = loss\n",
    "            predictions = out > 0.5\n",
    "            accuracy = np.mean(predictions == targets)\n",
    "            print(\"Accuracy: \", accuracy)\n",
    "        if graph_lines and e % (epochs / 100) == 0:\n",
    "            display(-weights[0]/weights[1], -bias/weights[1])\n",
    "            \n",
    "\n",
    "    # Plotting the solution boundary\n",
    "    plt.title(\"Solution boundary\")\n",
    "    display(-weights[0]/weights[1], -bias/weights[1], 'black')\n",
    "\n",
    "    # Plotting the data\n",
    "    plot_points(features, targets)\n",
    "    plt.show()\n",
    "\n",
    "    # Plotting the error\n",
    "    plt.title(\"Error Plot\")\n",
    "    plt.xlabel('Number of epochs')\n",
    "    plt.ylabel('Error')\n",
    "    plt.plot(errors)\n",
    "    plt.show()"
   ]
  },
  {
   "cell_type": "code",
   "execution_count": 409,
   "metadata": {
    "colab": {
     "base_uri": "https://localhost:8080/",
     "height": 1000
    },
    "id": "9HlbnFiM39_L",
    "outputId": "80eb6a04-643e-472a-9e09-df6852efa9f8"
   },
   "outputs": [
    {
     "name": "stdout",
     "output_type": "stream",
     "text": [
      "\n",
      "========== Epoch 0 ==========\n",
      "---------------\n",
      "0\n",
      "---------------\n",
      "Train loss:  0.5009325985519862\n",
      "Accuracy:  0.7980131551566586\n",
      "\n",
      "========== Epoch 30 ==========\n",
      "---------------\n",
      "30\n",
      "---------------\n",
      "Train loss:  0.49449127296624384\n",
      "Accuracy:  0.798067440534892\n",
      "\n",
      "========== Epoch 60 ==========\n",
      "---------------\n",
      "60\n",
      "---------------\n",
      "Train loss:  0.4944549556600466\n",
      "Accuracy:  0.798067440534892\n",
      "\n",
      "========== Epoch 90 ==========\n",
      "---------------\n",
      "90\n",
      "---------------\n",
      "Train loss:  0.4944524629384364\n",
      "Accuracy:  0.798067440534892\n",
      "\n",
      "========== Epoch 120 ==========\n",
      "---------------\n",
      "120\n",
      "---------------\n",
      "Train loss:  0.49445219118448996\n",
      "Accuracy:  0.798067440534892\n",
      "\n",
      "========== Epoch 150 ==========\n",
      "---------------\n",
      "150\n",
      "---------------\n",
      "Train loss:  0.49445214778163427\n",
      "Accuracy:  0.798067440534892\n",
      "\n",
      "========== Epoch 180 ==========\n",
      "---------------\n",
      "180\n",
      "---------------\n",
      "Train loss:  0.4944521389830431\n",
      "Accuracy:  0.798067440534892\n",
      "\n",
      "========== Epoch 210 ==========\n",
      "---------------\n",
      "210\n",
      "---------------\n",
      "Train loss:  0.4944521369920823\n",
      "Accuracy:  0.798067440534892\n",
      "\n",
      "========== Epoch 240 ==========\n",
      "---------------\n",
      "240\n",
      "---------------\n",
      "Train loss:  0.49445213651917985\n",
      "Accuracy:  0.798067440534892\n",
      "\n",
      "========== Epoch 270 ==========\n",
      "---------------\n",
      "270\n",
      "---------------\n",
      "Train loss:  0.494452136403864\n",
      "Accuracy:  0.798067440534892\n"
     ]
    },
    {
     "data": {
      "image/png": "[encoded data removed]",
      "text/plain": [
       "<Figure size 640x480 with 1 Axes>"
      ]
     },
     "metadata": {},
     "output_type": "display_data"
    },
    {
     "data": {
      "image/png": "[encoded data removed]",
      "text/plain": [
       "<Figure size 640x480 with 1 Axes>"
      ]
     },
     "metadata": {},
     "output_type": "display_data"
    }
   ],
   "source": [
    "train(X, y, epochs, learnrate, True)"
   ]
  },
  {
   "cell_type": "code",
   "execution_count": null,
   "metadata": {
    "id": "My3ynW0n3-CF"
   },
   "outputs": [],
   "source": []
  },
  {
   "cell_type": "code",
   "execution_count": null,
   "metadata": {},
   "outputs": [],
   "source": []
  }
 ],
 "metadata": {
  "colab": {
   "name": "gradiente_descendiente.ipynb",
   "provenance": []
  },
  "kernelspec": {
   "display_name": "Python 3 (ipykernel)",
   "language": "python",
   "name": "python3"
  },
  "language_info": {
   "codemirror_mode": {
    "name": "ipython",
    "version": 3
   },
   "file_extension": ".py",
   "mimetype": "text/x-python",
   "name": "python",
   "nbconvert_exporter": "python",
   "pygments_lexer": "ipython3",
   "version": "3.12.2"
  }
 },
 "nbformat": 4,
 "nbformat_minor": 4
}
