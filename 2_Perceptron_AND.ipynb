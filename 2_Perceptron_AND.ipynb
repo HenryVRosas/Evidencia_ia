{
 "cells": [
  {
   "cell_type": "code",
   "execution_count": 2854,
   "metadata": {
    "executionInfo": {
     "elapsed": 424,
     "status": "ok",
     "timestamp": 1618332385959,
     "user": {
      "displayName": "Ferdinand Pineda",
      "photoUrl": "https://lh3.googleusercontent.com/a-/AOh14GjsLaRt0FQh6cgGY7HYnEHVm5c8pW5fK2mdeyp2=s64",
      "userId": "15068356675407096283"
     },
     "user_tz": 300
    },
    "id": "mLT7nFZLB00p"
   },
   "outputs": [],
   "source": [
    "import pandas as pd"
   ]
  },
  {
   "cell_type": "code",
   "execution_count": 2855,
   "metadata": {
    "executionInfo": {
     "elapsed": 442,
     "status": "ok",
     "timestamp": 1618333027708,
     "user": {
      "displayName": "Ferdinand Pineda",
      "photoUrl": "https://lh3.googleusercontent.com/a-/AOh14GjsLaRt0FQh6cgGY7HYnEHVm5c8pW5fK2mdeyp2=s64",
      "userId": "15068356675407096283"
     },
     "user_tz": 300
    },
    "id": "V9Lv9EzZB000"
   },
   "outputs": [],
   "source": [
    "# Para modificar: Selecciones weight1, weight2, y bias\n",
    "# wx + b = 0 ---  w1x1 + w2x2 + b = 0\n",
    "weight1 = 20  # w1\n",
    "weight2 = 20 # w2\n",
    "bias = -30   # b"
   ]
  },
  {
   "cell_type": "code",
   "execution_count": 2856,
   "metadata": {
    "executionInfo": {
     "elapsed": 714,
     "status": "ok",
     "timestamp": 1618333028259,
     "user": {
      "displayName": "Ferdinand Pineda",
      "photoUrl": "https://lh3.googleusercontent.com/a-/AOh14GjsLaRt0FQh6cgGY7HYnEHVm5c8pW5fK2mdeyp2=s64",
      "userId": "15068356675407096283"
     },
     "user_tz": 300
    },
    "id": "xMd_Fy7NB000"
   },
   "outputs": [],
   "source": [
    "# No cambie nada en esta celda\n",
    "# Entradas y salidas\n",
    "test_inputs = [(0, 0), (0, 1), (1, 0), (1, 1)]   # (x1, x2)\n",
    "correct_outputs = [False, False, False, True]   # y\n",
    "outputs = []\n"
   ]
  },
  {
   "cell_type": "code",
   "execution_count": 2857,
   "metadata": {
    "executionInfo": {
     "elapsed": 706,
     "status": "ok",
     "timestamp": 1618333028481,
     "user": {
      "displayName": "Ferdinand Pineda",
      "photoUrl": "https://lh3.googleusercontent.com/a-/AOh14GjsLaRt0FQh6cgGY7HYnEHVm5c8pW5fK2mdeyp2=s64",
      "userId": "15068356675407096283"
     },
     "user_tz": 300
    },
    "id": "8IQmnD9sHXi8"
   },
   "outputs": [
    {
     "name": "stdout",
     "output_type": "stream",
     "text": [
      "Yes\n",
      "Yes\n",
      "Yes\n",
      "Yes\n"
     ]
    }
   ],
   "source": [
    "# Genera y verifica las salidas\n",
    "for test_input, correct_output in zip(test_inputs, correct_outputs):\n",
    "    linear_combination = weight1 * test_input[0] + weight2 * test_input[1] + bias\n",
    "    output = int(linear_combination >= 0)\n",
    "    is_correct_string = 'Yes' if output == correct_output else 'No'\n",
    "    print(is_correct_string)\n",
    "    outputs.append([test_input[0], test_input[1], linear_combination, output, is_correct_string])"
   ]
  },
  {
   "cell_type": "code",
   "execution_count": 2858,
   "metadata": {
    "colab": {
     "base_uri": "https://localhost:8080/"
    },
    "executionInfo": {
     "elapsed": 544,
     "status": "ok",
     "timestamp": 1618333028483,
     "user": {
      "displayName": "Ferdinand Pineda",
      "photoUrl": "https://lh3.googleusercontent.com/a-/AOh14GjsLaRt0FQh6cgGY7HYnEHVm5c8pW5fK2mdeyp2=s64",
      "userId": "15068356675407096283"
     },
     "user_tz": 300
    },
    "id": "1wl3QthhHYih",
    "outputId": "1178380a-05ae-44de-fcb3-af724d859691"
   },
   "outputs": [
    {
     "name": "stdout",
     "output_type": "stream",
     "text": [
      "Nice!  Todo es correcto.\n",
      "\n",
      " Input 1    Input 2    Linear Combination    Activation Output   Is Correct\n",
      "       0          0                   -30                    0          Yes\n",
      "       0          1                   -10                    0          Yes\n",
      "       1          0                   -10                    0          Yes\n",
      "       1          1                    10                    1          Yes\n"
     ]
    }
   ],
   "source": [
    "# Imprime salidas\n",
    "num_wrong = len([output[4] for output in outputs if output[4] == 'No'])\n",
    "output_frame = pd.DataFrame(outputs, columns=['Input 1', '  Input 2', '  Linear Combination', '  Activation Output', '  Is Correct'])\n",
    "if not num_wrong:\n",
    "    print('Nice!  Todo es correcto.\\n')\n",
    "else:\n",
    "    print('Usted tiene {} errores.  Siga probando!\\n'.format(num_wrong))\n",
    "print(output_frame.to_string(index=False))"
   ]
  },
  {
   "cell_type": "code",
   "execution_count": null,
   "metadata": {
    "id": "z-8TYmmAHYoF"
   },
   "outputs": [],
   "source": []
  }
 ],
 "metadata": {
  "colab": {
   "name": "1_Perceptron_AND.ipynb",
   "provenance": []
  },
  "kernelspec": {
   "display_name": "Python 3 (ipykernel)",
   "language": "python",
   "name": "python3"
  },
  "language_info": {
   "codemirror_mode": {
    "name": "ipython",
    "version": 3
   },
   "file_extension": ".py",
   "mimetype": "text/x-python",
   "name": "python",
   "nbconvert_exporter": "python",
   "pygments_lexer": "ipython3",
   "version": "3.12.2"
  }
 },
 "nbformat": 4,
 "nbformat_minor": 4
}
